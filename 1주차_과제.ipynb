{
  "nbformat": 4,
  "nbformat_minor": 0,
  "metadata": {
    "colab": {
      "name": "1주차 과제.ipynb",
      "provenance": [],
      "collapsed_sections": [],
      "include_colab_link": true
    },
    "kernelspec": {
      "name": "python3",
      "display_name": "Python 3"
    }
  },
  "cells": [
    {
      "cell_type": "markdown",
      "metadata": {
        "id": "view-in-github",
        "colab_type": "text"
      },
      "source": [
        "<a href=\"https://colab.research.google.com/github/BosengJ/Gwangju/blob/master/1%EC%A3%BC%EC%B0%A8_%EA%B3%BC%EC%A0%9C.ipynb\" target=\"_parent\"><img src=\"https://colab.research.google.com/assets/colab-badge.svg\" alt=\"Open In Colab\"/></a>"
      ]
    },
    {
      "cell_type": "markdown",
      "metadata": {
        "id": "L_sSe8ApHOcO",
        "colab_type": "text"
      },
      "source": [
        ""
      ]
    },
    {
      "cell_type": "markdown",
      "metadata": {
        "id": "RT6wk3CdHZrc",
        "colab_type": "text"
      },
      "source": [
        "#### 1주차 과제 (2020.05.21)\n",
        "\n",
        "---\n",
        "# 인공지능 적용 분야\n",
        "---\n",
        "\n",
        "## 1. 언어\n",
        "### __NAVER 뉴스 요약봇__\n",
        "<pre><code> 1.1 NAVER 뉴스 요약봇이란?\n",
        "![이미지](https://cdn.emetro.co.kr/data2/content/image/2017/12/12/0540/20171212000116.jpg)\n",
        "</code></pre>\n",
        "\n",
        "\n",
        "##2. 음성\n",
        "* 스마트홈(필립스)\n",
        "\n",
        "\n",
        "## 3. 이미지\n",
        "* 아이폰 사진 어플에서 '검색'기능: 검색어 입력시 해당 되는 이미지 출력\n",
        "\n",
        "## 4. 자율주행\n",
        "* Apple Carplay: 주차위치 자동으로 인식, Carplay 이용 분석 통해 자주 가는 위치, 시간, 패턴 등을 분석하여 시동을 켰을 때 자동으로 목적지 설정 및 안내\n",
        "* 자율비행(보잉)\n"
      ]
    },
    {
      "cell_type": "code",
      "metadata": {
        "id": "jM-QAxS4Knn8",
        "colab_type": "code",
        "colab": {}
      },
      "source": [
        ""
      ],
      "execution_count": 0,
      "outputs": []
    }
  ]
}