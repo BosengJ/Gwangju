{
  "nbformat": 4,
  "nbformat_minor": 0,
  "metadata": {
    "colab": {
      "name": "1주차 과제.ipynb",
      "provenance": [],
      "collapsed_sections": [],
      "authorship_tag": "ABX9TyMpbWbQGFZejPHgdkiWhtEs",
      "include_colab_link": true
    },
    "kernelspec": {
      "name": "python3",
      "display_name": "Python 3"
    }
  },
  "cells": [
    {
      "cell_type": "markdown",
      "metadata": {
        "id": "view-in-github",
        "colab_type": "text"
      },
      "source": [
        "<a href=\"https://colab.research.google.com/github/BosengJ/Gwangju/blob/master/1%EC%A3%BC%EC%B0%A8_%EA%B3%BC%EC%A0%9C.ipynb\" target=\"_parent\"><img src=\"https://colab.research.google.com/assets/colab-badge.svg\" alt=\"Open In Colab\"/></a>"
      ]
    },
    {
      "cell_type": "markdown",
      "metadata": {
        "id": "L_sSe8ApHOcO",
        "colab_type": "text"
      },
      "source": [
        ""
      ]
    },
    {
      "cell_type": "markdown",
      "metadata": {
        "id": "RT6wk3CdHZrc",
        "colab_type": "text"
      },
      "source": [
        "###1주차 과제 (2020.05.21)\n",
        "\n",
        "# 인공지능 적용 분야\n",
        "\n",
        "## (1) 언어\n",
        "* 구글 번역기\n",
        "* 네이버 맞춤법 검사기\n",
        "* 기사 읽어서 주제 도출\n",
        "* 챗봇 / 심심이 / 우봇\n",
        "\n",
        "##(2) 음성\n",
        "* Siri\n",
        "* 알렉사\n",
        "* 스마트홈(필립스)\n",
        "* 클로바\n",
        "\n",
        "##(3) 이미지\n",
        "* 종이문서 ===> 컴퓨터 txt화 ===> 중국어 한자 / 병음 표기 / 번역 서비스\n",
        "* 의료 데이터 분석 (흑색종, CT, MRI)\n",
        "* 아이폰 사진 어플에서 '검색'기능: 검색어 입력시 해당 되는 이미지 출력\n",
        "* 사진 보정 어플: 눈, 코, 입, 눈썹, 얼굴형 자동 인식하여 원하는 대로 보정\n",
        "\n",
        "##(4) 자율주행\n",
        "* Apple Carplay: 주차위치 자동으로 인식, Carplay 이용 분석 통해 자주 가는 위치, 시간, 패턴 등을 분석하여 시동을 켰을 때 자동으로 목적지 설정 및 안내\n",
        "* 자율비행(보잉)\n",
        "* 현대: 차간거리 인식하여 경고음, 차선을 인식하여 경고음"
      ]
    },
    {
      "cell_type": "code",
      "metadata": {
        "id": "jM-QAxS4Knn8",
        "colab_type": "code",
        "colab": {}
      },
      "source": [
        ""
      ],
      "execution_count": 0,
      "outputs": []
    }
  ]
}